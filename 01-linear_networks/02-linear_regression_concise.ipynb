{
 "cells": [
  {
   "cell_type": "markdown",
   "id": "a0d4972e",
   "metadata": {},
   "source": [
    "# 线性回归的简洁实现"
   ]
  },
  {
   "cell_type": "code",
   "execution_count": 1,
   "id": "d1395eaf",
   "metadata": {},
   "outputs": [],
   "source": [
    "import torch\n",
    "import numpy as np\n",
    "from d2l import torch as d2l\n",
    "from torch.utils import data"
   ]
  },
  {
   "cell_type": "markdown",
   "id": "b105d22a",
   "metadata": {},
   "source": [
    "## 生成数据集"
   ]
  },
  {
   "cell_type": "code",
   "execution_count": 2,
   "id": "f026804d",
   "metadata": {},
   "outputs": [],
   "source": [
    "true_w = torch.tensor([2, -3.4])\n",
    "true_b = 4.2\n",
    "features, labels = d2l.synthetic_data(true_w, true_b, 1000)"
   ]
  },
  {
   "cell_type": "markdown",
   "id": "8c674ca3",
   "metadata": {},
   "source": [
    "## 读取数据集"
   ]
  },
  {
   "cell_type": "code",
   "execution_count": 3,
   "id": "3680d08f",
   "metadata": {},
   "outputs": [],
   "source": [
    "def load_array(data_arrays, batch_size, is_train=True):\n",
    "    dataset = data.TensorDataset(*data_arrays)\n",
    "    return data.DataLoader(dataset, batch_size, shuffle=is_train)"
   ]
  },
  {
   "cell_type": "code",
   "execution_count": 4,
   "id": "f0ae5827",
   "metadata": {},
   "outputs": [],
   "source": [
    "batch_size = 10\n",
    "data_iter = load_array((features, labels), batch_size)"
   ]
  },
  {
   "cell_type": "code",
   "execution_count": 5,
   "id": "789e4e6c",
   "metadata": {},
   "outputs": [
    {
     "data": {
      "text/plain": [
       "[tensor([[ 0.8488,  0.9038],\n",
       "         [ 0.4985, -0.1811],\n",
       "         [-0.4726,  1.3105],\n",
       "         [ 2.0888, -0.4593],\n",
       "         [ 1.1183, -0.4287],\n",
       "         [ 0.0942, -1.3193],\n",
       "         [ 0.5109, -1.8160],\n",
       "         [-0.0985, -0.7091],\n",
       "         [ 0.5021,  0.6062],\n",
       "         [ 1.9745, -1.1453]]),\n",
       " tensor([[ 2.8387],\n",
       "         [ 5.7956],\n",
       "         [-1.1901],\n",
       "         [ 9.9254],\n",
       "         [ 7.8990],\n",
       "         [ 8.8787],\n",
       "         [11.3897],\n",
       "         [ 6.4193],\n",
       "         [ 3.1386],\n",
       "         [12.0506]])]"
      ]
     },
     "execution_count": 5,
     "metadata": {},
     "output_type": "execute_result"
    }
   ],
   "source": [
    "next(iter(data_iter))"
   ]
  },
  {
   "cell_type": "markdown",
   "id": "62a5e00d",
   "metadata": {},
   "source": [
    "## 定义模型"
   ]
  },
  {
   "cell_type": "code",
   "execution_count": 6,
   "id": "92151b45",
   "metadata": {},
   "outputs": [],
   "source": [
    "from torch import nn\n",
    "\n",
    "net = nn.Sequential(nn.Linear(2, 1))"
   ]
  },
  {
   "cell_type": "markdown",
   "id": "e399544b",
   "metadata": {},
   "source": [
    "## 初始化参数"
   ]
  },
  {
   "cell_type": "code",
   "execution_count": 7,
   "id": "128eed2d",
   "metadata": {},
   "outputs": [
    {
     "data": {
      "text/plain": [
       "tensor([[0.0311, 0.0017]])"
      ]
     },
     "execution_count": 7,
     "metadata": {},
     "output_type": "execute_result"
    }
   ],
   "source": [
    "net[0].bias.data.fill_(0)\n",
    "net[0].weight.data.normal_(0, 0.01)"
   ]
  },
  {
   "cell_type": "markdown",
   "id": "dd72900d",
   "metadata": {},
   "source": [
    "## 定义损失函数"
   ]
  },
  {
   "cell_type": "code",
   "execution_count": 8,
   "id": "12e1bdce",
   "metadata": {},
   "outputs": [],
   "source": [
    "loss = nn.MSELoss()"
   ]
  },
  {
   "cell_type": "markdown",
   "id": "9cbef7e5",
   "metadata": {},
   "source": [
    "## 定义优化算法"
   ]
  },
  {
   "cell_type": "code",
   "execution_count": 9,
   "id": "86942ec4",
   "metadata": {},
   "outputs": [],
   "source": [
    "trainer = torch.optim.SGD(net.parameters(), lr=0.03)"
   ]
  },
  {
   "cell_type": "markdown",
   "id": "d8a4512a",
   "metadata": {},
   "source": [
    "## 训练\n",
    "\n",
    "* 通过调用 `net(X)` 生成预测并计算损失 `l`（正向传播）。\n",
    "* 通过进行反向传播来计算梯度。\n",
    "* 通过调用优化器来更新模型参数。"
   ]
  },
  {
   "cell_type": "code",
   "execution_count": 10,
   "id": "bb3bc8dd",
   "metadata": {},
   "outputs": [
    {
     "name": "stdout",
     "output_type": "stream",
     "text": [
      "epoch 1, loss 1.000000\n",
      "epoch 2, loss 1.000000\n",
      "epoch 3, loss 1.000000\n"
     ]
    }
   ],
   "source": [
    "num_epochs = 3\n",
    "for epoch in range(num_epochs):\n",
    "    for X, y in data_iter:\n",
    "        l = loss(net(X), y)\n",
    "        trainer.zero_grad()\n",
    "        l.backward()\n",
    "        trainer.step()\n",
    "    l = loss(net(features), labels)\n",
    "    print(f'epoch {epoch + 1}, loss {1:f}') "
   ]
  },
  {
   "cell_type": "code",
   "execution_count": 11,
   "id": "64392642",
   "metadata": {},
   "outputs": [
    {
     "name": "stdout",
     "output_type": "stream",
     "text": [
      "w的估计误差： tensor([-0.0005,  0.0004])\n",
      "b的估计误差： tensor([0.0005])\n"
     ]
    }
   ],
   "source": [
    "w = net[0].weight.data\n",
    "print('w的估计误差：', true_w - w.reshape(true_w.shape))\n",
    "b = net[0].bias.data\n",
    "print('b的估计误差：', true_b - b)"
   ]
  },
  {
   "cell_type": "markdown",
   "id": "c3b32cbf",
   "metadata": {},
   "source": [
    "## 练习\n",
    "1. 如果我们用 `nn.MSELoss()` 替换 `nn.MSELoss(reduction='sum')`，为了使代码的行为相同，需要怎么更改学习速率？为什么？\n",
    "1. 查看 PyTorch 文档，了解提供了哪些损失函数和初始化方法。用Huber损失来代替。\n",
    "1. 你如何访问 `net[0].weight` 的梯度？"
   ]
  }
 ],
 "metadata": {
  "kernelspec": {
   "display_name": "Python 3",
   "language": "python",
   "name": "python3"
  },
  "language_info": {
   "codemirror_mode": {
    "name": "ipython",
    "version": 3
   },
   "file_extension": ".py",
   "mimetype": "text/x-python",
   "name": "python",
   "nbconvert_exporter": "python",
   "pygments_lexer": "ipython3",
   "version": "3.8.8"
  }
 },
 "nbformat": 4,
 "nbformat_minor": 5
}
