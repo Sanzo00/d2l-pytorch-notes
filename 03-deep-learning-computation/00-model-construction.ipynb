{
 "cells": [
  {
   "cell_type": "markdown",
   "id": "81a978a5",
   "metadata": {},
   "source": [
    "## 块\n",
    "\n",
    "为了实现复杂的网络，引入了神经网路块的概念，块可以表述单个层、多个层组成的主键或整个模型本身。\n",
    "从编程的角度看，块由类（class）表示，它的任何子类都必须定义一个将输入转换为输出的正向传播函数，必须存储任何必须的参数。"
   ]
  },
  {
   "cell_type": "code",
   "execution_count": 1,
   "id": "c75870e9",
   "metadata": {},
   "outputs": [
    {
     "data": {
      "text/plain": [
       "tensor([[-0.1886, -0.2589, -0.1761, -0.1069, -0.1637,  0.3169, -0.0077,  0.0686,\n",
       "         -0.0025,  0.0075],\n",
       "        [-0.1667, -0.2634, -0.1870, -0.1263, -0.1773,  0.1332,  0.0399,  0.0326,\n",
       "         -0.0444,  0.0632]], grad_fn=<AddmmBackward>)"
      ]
     },
     "execution_count": 1,
     "metadata": {},
     "output_type": "execute_result"
    }
   ],
   "source": [
    "# 多层感知机的列子\n",
    "import torch\n",
    "from torch import nn\n",
    "from torch.nn import functional as F\n",
    "net = nn.Sequential(nn.Linear(20, 256), nn.ReLU(), nn.Linear(256, 10))\n",
    "\n",
    "X = torch.rand(2, 20)\n",
    "net(X)"
   ]
  },
  {
   "cell_type": "markdown",
   "id": "54c8be36",
   "metadata": {},
   "source": [
    "上面是一个多层感知机的例子，其中nn.Sequential和nn.Linear()是nn.Module的子类，它维护着Module组成的列表，正向传播将每个块的输出作为下个块的输入，其中net(X)是net.__call__(X)的简写。"
   ]
  },
  {
   "cell_type": "markdown",
   "id": "49598fbe",
   "metadata": {},
   "source": [
    "## 自定义块"
   ]
  },
  {
   "cell_type": "code",
   "execution_count": 2,
   "id": "43482ee5",
   "metadata": {},
   "outputs": [],
   "source": [
    "class MLP(nn.Module):\n",
    "    def __init__(self):\n",
    "        super().__init__() # 调用父类的__init__()，完成初始化\n",
    "        self.hidden = nn.Linear(20, 256)\n",
    "        self.out = nn.Linear(256, 10)\n",
    "        \n",
    "    def forward(self, X):\n",
    "        return self.out(F.relu(self.hidden(X))) # 前向传播 "
   ]
  },
  {
   "cell_type": "code",
   "execution_count": 3,
   "id": "de1fbe8c",
   "metadata": {},
   "outputs": [
    {
     "data": {
      "text/plain": [
       "tensor([[-0.1710, -0.1230, -0.0295, -0.1956, -0.2455, -0.3210, -0.0773,  0.2891,\n",
       "         -0.0390,  0.1207],\n",
       "        [-0.1216, -0.0678,  0.0289, -0.0873, -0.2657, -0.3352, -0.2335,  0.1411,\n",
       "         -0.1627,  0.0787]], grad_fn=<AddmmBackward>)"
      ]
     },
     "execution_count": 3,
     "metadata": {},
     "output_type": "execute_result"
    }
   ],
   "source": [
    "net = MLP()\n",
    "net(X)"
   ]
  },
  {
   "cell_type": "markdown",
   "id": "8bbc437e",
   "metadata": {},
   "source": [
    "## 顺序块\n",
    "nn.Sequential是为了把模型串起来，我们只需要实现两个关键函数，即可实现nn.Sequential的功能：\n",
    "1. 将块组个添加到列表中。\n",
    "1. 将列表中的块串起来，实现正向传播函数。"
   ]
  },
  {
   "cell_type": "code",
   "execution_count": 4,
   "id": "52fc3178",
   "metadata": {},
   "outputs": [],
   "source": [
    "class MySequential(nn.Module):\n",
    "    def __init__(self, *args):\n",
    "        super().__init__()\n",
    "#         self.blks = []\n",
    "        for block in args:\n",
    "            # 将block保存到self._module中，self._module的类型是OrderedDict，用list也行\n",
    "            self._modules[block] = block\n",
    "#             self.blks.append(block)\n",
    "    def forward(self, X):\n",
    "        for block in self._modules.values():\n",
    "            X = block(X)\n",
    "        return X\n",
    "    \n",
    "#     def forward(self, X):\n",
    "#         for block in self.blks:\n",
    "#             X = block(X)\n",
    "#         return X"
   ]
  },
  {
   "cell_type": "code",
   "execution_count": 5,
   "id": "4b871a48",
   "metadata": {},
   "outputs": [
    {
     "data": {
      "text/plain": [
       "tensor([[-0.0213,  0.1711, -0.0348,  0.0355, -0.0842,  0.0574, -0.2455,  0.0144,\n",
       "          0.3846,  0.0933],\n",
       "        [-0.0819,  0.2342, -0.0391, -0.0323, -0.0899, -0.0722, -0.0190,  0.0531,\n",
       "          0.4504,  0.1130]], grad_fn=<AddmmBackward>)"
      ]
     },
     "execution_count": 5,
     "metadata": {},
     "output_type": "execute_result"
    }
   ],
   "source": [
    "net = MySequential(nn.Linear(20, 256), nn.ReLU(), nn.Linear(256, 10))\n",
    "net(X)"
   ]
  },
  {
   "cell_type": "markdown",
   "id": "c969c86f",
   "metadata": {},
   "source": [
    "## 在前向传播函数中执行代码\n",
    "\n",
    "前向传播函数中可以使用常数参数和python的控制流以实现不同的需求。"
   ]
  },
  {
   "cell_type": "code",
   "execution_count": 6,
   "id": "3fc38744",
   "metadata": {},
   "outputs": [],
   "source": [
    "class FixedHiddenMLP(nn.Module):\n",
    "    def __init__(self):\n",
    "        super().__init__()\n",
    "        # 不计算梯度的常数参数\n",
    "        self.rand_weight = torch.rand((20, 20), requires_grad=False)\n",
    "        self.linear = nn.Linear(20, 20)\n",
    "        \n",
    "    def forward(self, X):\n",
    "        X = self.linear(X)\n",
    "        X = F.relu(torch.mm(X, self.rand_weight) + 1) # 使用常数参数\n",
    "        X = self.linear(X) # 复用全连接层\n",
    "        \n",
    "        while X.abs().sum() > 1: # 控制流\n",
    "            X /= 2\n",
    "        return X.sum()"
   ]
  },
  {
   "cell_type": "code",
   "execution_count": 7,
   "id": "3fecd9e7",
   "metadata": {},
   "outputs": [
    {
     "data": {
      "text/plain": [
       "tensor(0.0423, grad_fn=<SumBackward0>)"
      ]
     },
     "execution_count": 7,
     "metadata": {},
     "output_type": "execute_result"
    }
   ],
   "source": [
    "net = FixedHiddenMLP()\n",
    "net(X)"
   ]
  },
  {
   "cell_type": "markdown",
   "id": "98fc662d",
   "metadata": {},
   "source": [
    "## 混合使用块"
   ]
  },
  {
   "cell_type": "code",
   "execution_count": 8,
   "id": "4ed71f86",
   "metadata": {},
   "outputs": [
    {
     "data": {
      "text/plain": [
       "tensor(-0.1647, grad_fn=<SumBackward0>)"
      ]
     },
     "execution_count": 8,
     "metadata": {},
     "output_type": "execute_result"
    }
   ],
   "source": [
    "class NestMLP(nn.Module):\n",
    "    def __init__(self):\n",
    "        super().__init__()\n",
    "        self.net = nn.Sequential(nn.Linear(20, 64), nn.ReLU(), \n",
    "                                 nn.Linear(64, 32), nn.ReLU())\n",
    "        self.out = nn.Linear(32, 16)\n",
    "    \n",
    "    def forward(self, X):\n",
    "        return self.out(self.net(X))\n",
    "    \n",
    "chimera = nn.Sequential(NestMLP(), nn.Linear(16, 20), FixedHiddenMLP())\n",
    "chimera(X)"
   ]
  }
 ],
 "metadata": {
  "kernelspec": {
   "display_name": "Python 3",
   "language": "python",
   "name": "python3"
  },
  "language_info": {
   "codemirror_mode": {
    "name": "ipython",
    "version": 3
   },
   "file_extension": ".py",
   "mimetype": "text/x-python",
   "name": "python",
   "nbconvert_exporter": "python",
   "pygments_lexer": "ipython3",
   "version": "3.8.10"
  }
 },
 "nbformat": 4,
 "nbformat_minor": 5
}
