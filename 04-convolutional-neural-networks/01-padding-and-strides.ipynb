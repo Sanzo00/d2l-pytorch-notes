{
 "cells": [
  {
   "cell_type": "markdown",
   "id": "a0c840fb",
   "metadata": {},
   "source": [
    "## 填充\n",
    "\n",
    "在做卷积计算时，往往会丢失边缘像素，解决这个问题是对输入图像的边界填充元素0。\n",
    "\n",
    "假设添加的$P_h$行，$P_w$列，那么输出的形状为：\n",
    "\n",
    "$$\n",
    "(n_h - k_h + p_h + 1) \\times (n_w - k_w + p_w + 1)\n",
    "$$\n",
    "\n",
    "通常设置$p_h = k_h - 1$和$p_w = k_w - 1$这样输出和输入将保持相同的形状。\n",
    "\n",
    "假设$k_h$为奇数，将在高度的两侧填充$\\frac{p_h}{2}$，如果$k_h$为偶数，将在一侧添加$\\lceil{p_h}\\rceil$另一侧添加$\\lfloor{p_h}\\rfloor$。\n",
    "\n",
    "一般卷积核为奇数，例如1、3、5、7方便填充。\n",
    "\n",
    "![](img/conv-pad.png)"
   ]
  },
  {
   "cell_type": "code",
   "execution_count": 1,
   "id": "93dd1531",
   "metadata": {},
   "outputs": [
    {
     "data": {
      "text/plain": [
       "(torch.Size([8, 8]), torch.Size([8, 8]))"
      ]
     },
     "execution_count": 1,
     "metadata": {},
     "output_type": "execute_result"
    }
   ],
   "source": [
    "import torch\n",
    "from torch import nn\n",
    "\n",
    "# 卷积层计算函数\n",
    "def comp_conv2d(conv2d, X):\n",
    "    X = X.reshape((1, 1) + X.shape)\n",
    "    Y = conv2d(X)\n",
    "    return Y.reshape(Y.shape[2:])\n",
    "\n",
    "conv2d = nn.Conv2d(1, 1, kernel_size=3, padding=1)\n",
    "X = torch.rand(8, 8)\n",
    "X.shape, comp_conv2d(conv2d, X).shape"
   ]
  },
  {
   "cell_type": "markdown",
   "id": "0090bc8a",
   "metadata": {},
   "source": [
    "当卷积核的高度和宽度不同时，需要填充不同的高度和宽度。"
   ]
  },
  {
   "cell_type": "code",
   "execution_count": 2,
   "id": "9c51b514",
   "metadata": {},
   "outputs": [
    {
     "data": {
      "text/plain": [
       "torch.Size([8, 8])"
      ]
     },
     "execution_count": 2,
     "metadata": {},
     "output_type": "execute_result"
    }
   ],
   "source": [
    "conv2d = nn.Conv2d(1, 1, kernel_size=(5, 3), padding=(2, 1))\n",
    "comp_conv2d(conv2d, X).shape"
   ]
  },
  {
   "cell_type": "markdown",
   "id": "9ddbf368",
   "metadata": {},
   "source": [
    "## 步幅\n",
    "\n",
    "卷积核每次移动的元素数量称为步幅，步幅可以有效的减小输出形状的大小。\n",
    "\n",
    "当垂直步幅为$s_h$, 水平步幅为$s_w$时，输出的形状为：\n",
    "\n",
    "$$\n",
    "\\lfloor\\frac{(n_h - k_h + p_h + s_h)} {s_h}\\rfloor \\times \\lfloor\\frac{(n_w - k_w + p_w + s_w)} {s_w}\\rfloor.\n",
    "$$\n",
    "\n",
    "如果设置$p_h = k_h - 1$, $p_w = k_w - 1$, 那么可以简化为$\\lfloor\\frac{(n_h + s_h - 1)} {s_h}\\rfloor \\times \\lfloor\\frac{(n_w + s_w - 1)} {s_w}\\rfloor.$，如果$n_h$和$n_w$可以被$s_h$和$s_w$整除，那么输出形状为$\\frac{n_h}{s_h} \\times \\frac{n_w}{s_w}$.\n",
    "\n",
    "![](img/conv-stride.png)"
   ]
  },
  {
   "cell_type": "code",
   "execution_count": 3,
   "id": "b5fc9ce2",
   "metadata": {},
   "outputs": [
    {
     "data": {
      "text/plain": [
       "torch.Size([4, 4])"
      ]
     },
     "execution_count": 3,
     "metadata": {},
     "output_type": "execute_result"
    }
   ],
   "source": [
    "# stride = 2\n",
    "conv2d = nn.Conv2d(1, 1, kernel_size=3, padding=1, stride=2)\n",
    "comp_conv2d(conv2d, X).shape"
   ]
  },
  {
   "cell_type": "code",
   "execution_count": 4,
   "id": "21401d64",
   "metadata": {},
   "outputs": [
    {
     "data": {
      "text/plain": [
       "torch.Size([2, 2])"
      ]
     },
     "execution_count": 4,
     "metadata": {},
     "output_type": "execute_result"
    }
   ],
   "source": [
    "conv2d = nn.Conv2d(1, 1, kernel_size=(3, 5), padding=(0, 1), stride=(3, 4))\n",
    "comp_conv2d(conv2d, X).shape"
   ]
  },
  {
   "cell_type": "markdown",
   "id": "8d42e392",
   "metadata": {},
   "source": [
    "通常$p_h = p_w$, $s_h = s_w$。"
   ]
  }
 ],
 "metadata": {
  "kernelspec": {
   "display_name": "Python 3",
   "language": "python",
   "name": "python3"
  },
  "language_info": {
   "codemirror_mode": {
    "name": "ipython",
    "version": 3
   },
   "file_extension": ".py",
   "mimetype": "text/x-python",
   "name": "python",
   "nbconvert_exporter": "python",
   "pygments_lexer": "ipython3",
   "version": "3.8.10"
  }
 },
 "nbformat": 4,
 "nbformat_minor": 5
}
