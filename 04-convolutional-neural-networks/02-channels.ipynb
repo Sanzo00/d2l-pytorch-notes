{
 "cells": [
  {
   "cell_type": "markdown",
   "id": "3f27a6ba",
   "metadata": {},
   "source": [
    "## 多输入通道\n",
    "\n",
    "当输入包含多个通道时，需要构造和通道数相同的卷积核，例如彩色图片有RGB三个通道，因此构建三个卷积核，分别对每个通道进行卷积运算，然后将结果合并在一起。\n",
    "\n",
    "![](img/conv-multi-in.png)"
   ]
  },
  {
   "cell_type": "code",
   "execution_count": 1,
   "id": "580199d7",
   "metadata": {},
   "outputs": [],
   "source": [
    "import torch\n",
    "from d2l import torch as d2l\n",
    "\n",
    "def corr2d_multi_in(X, K):\n",
    "    # 分别对每个通道进行计算，然后将结果加在一起\n",
    "    return sum(d2l.corr2d(x, k) for x, k in zip(X, K))"
   ]
  },
  {
   "cell_type": "code",
   "execution_count": 2,
   "id": "60c567c4",
   "metadata": {},
   "outputs": [
    {
     "data": {
      "text/plain": [
       "tensor([[ 56.,  72.],\n",
       "        [104., 120.]])"
      ]
     },
     "execution_count": 2,
     "metadata": {},
     "output_type": "execute_result"
    }
   ],
   "source": [
    "X = torch.tensor([[[0, 1, 2], [3, 4, 5], [6, 7, 8]], \n",
    "                  [[1, 2, 3], [4, 5, 6], [7, 8, 9]]])\n",
    "K = torch.tensor([[[0, 1], [2, 3]], [[1, 2], [3, 4]]])\n",
    "corr2d_multi_in(X, K)"
   ]
  },
  {
   "cell_type": "markdown",
   "id": "bd57cbad",
   "metadata": {},
   "source": [
    "## 多输出通道\n",
    "\n",
    "目前为止无论多少输入通道，都只有一个输出通道，现实中多个通道堆模型的训练至关重要，可以把每个输出通道理解为对不同特征的响应。\n",
    "\n",
    "用$c_i$和$c_o$分别表示输入和输出通道的数量，需要为每个输出通道创建$c_i \\times k_h \\times k_w$的卷积核张量，那么完整的卷积核为$c_o \\times c_i \\times k_h \\times k_w$。"
   ]
  },
  {
   "cell_type": "code",
   "execution_count": 3,
   "id": "f51258c4",
   "metadata": {},
   "outputs": [],
   "source": [
    "def corr2d_multi_in_out(X, K):\n",
    "    # 分别计算每个输出通道，然后进行拼接\n",
    "    return torch.stack([corr2d_multi_in(X, k) for k in K], 0)"
   ]
  },
  {
   "cell_type": "code",
   "execution_count": 4,
   "id": "5d3c3269",
   "metadata": {},
   "outputs": [
    {
     "data": {
      "text/plain": [
       "torch.Size([3, 2, 2, 2])"
      ]
     },
     "execution_count": 4,
     "metadata": {},
     "output_type": "execute_result"
    }
   ],
   "source": [
    "K = torch.stack((K, K+1, K+2), 0)\n",
    "K.shape"
   ]
  },
  {
   "cell_type": "code",
   "execution_count": 5,
   "id": "0d3f40f2",
   "metadata": {},
   "outputs": [
    {
     "data": {
      "text/plain": [
       "tensor([[[ 56.,  72.],\n",
       "         [104., 120.]],\n",
       "\n",
       "        [[ 76., 100.],\n",
       "         [148., 172.]],\n",
       "\n",
       "        [[ 96., 128.],\n",
       "         [192., 224.]]])"
      ]
     },
     "execution_count": 5,
     "metadata": {},
     "output_type": "execute_result"
    }
   ],
   "source": [
    "corr2d_multi_in_out(X, K)"
   ]
  },
  {
   "cell_type": "markdown",
   "id": "1fa514dc",
   "metadata": {},
   "source": [
    "## 1$\\times$1卷积层\n",
    "\n",
    "1$\\times$1的卷积层失去了卷积的本质，但是1$\\times$卷积仍然很流行，通常包含在复杂的深度网络设计中。\n",
    "\n",
    "1$\\times$1的计算只发生在通道上，可以看作是从输入层$c_i$到输出层$c_o$的全连接层。\n",
    "\n",
    "![](img/conv-1x1.png)"
   ]
  },
  {
   "cell_type": "code",
   "execution_count": 6,
   "id": "dc8d0537",
   "metadata": {},
   "outputs": [],
   "source": [
    "def corr2d_multi_in_out_1x1(X, K):\n",
    "    c_i, h, w = X.shape\n",
    "    c_o = K.shape[0]\n",
    "    X = X.reshape((c_i, h * w))\n",
    "    K = K.reshape((c_o, c_i))\n",
    "    return (K @ X).reshape((c_o, h, w))"
   ]
  },
  {
   "cell_type": "code",
   "execution_count": 7,
   "id": "86b17137",
   "metadata": {},
   "outputs": [],
   "source": [
    "X = torch.normal(0, 1, (3, 3, 3))\n",
    "K = torch.normal(0, 1, (2, 3, 1, 1))\n",
    "\n",
    "Y1 = corr2d_multi_in_out_1x1(X, K)\n",
    "Y2 = corr2d_multi_in_out(X, K)\n",
    "\n",
    "assert float(torch.abs(Y1 - Y2).sum()) < 1e-6"
   ]
  }
 ],
 "metadata": {
  "kernelspec": {
   "display_name": "Python 3",
   "language": "python",
   "name": "python3"
  },
  "language_info": {
   "codemirror_mode": {
    "name": "ipython",
    "version": 3
   },
   "file_extension": ".py",
   "mimetype": "text/x-python",
   "name": "python",
   "nbconvert_exporter": "python",
   "pygments_lexer": "ipython3",
   "version": "3.8.10"
  }
 },
 "nbformat": 4,
 "nbformat_minor": 5
}
